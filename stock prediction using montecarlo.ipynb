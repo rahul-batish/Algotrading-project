{
 "cells": [
  {
   "cell_type": "code",
   "execution_count": 1,
   "metadata": {
    "id": "hAJ00xXpbvzG"
   },
   "outputs": [],
   "source": [
    "#https://finance.yahoo.com/quote/AMZN/history/\n",
    "import pandas as pd\n"
   ]
  },
  {
   "cell_type": "markdown",
   "metadata": {
    "id": "eb84yAKDcOzV"
   },
   "source": [
    "The data from 2000-06-05 to 2018-06-05 on NASDAQ GS stock quote"
   ]
  },
  {
   "cell_type": "markdown",
   "metadata": {
    "id": "3InX7yK0cleG"
   },
   "source": [
    "\n",
    "\n",
    "\n",
    "*   Date: Date of quote\n",
    "*   Open: Open price\n",
    "\n",
    "\n",
    "*   High: High price\n",
    "*   Low: low price\n",
    "\n",
    "*   Close: Close price adjusted for splits\n",
    "*   Adj Close: Close price adjusted for both dividends and split\n",
    "\n",
    "\n",
    "*   Volumne: Exchange volume\n",
    "\n",
    "\n",
    "\n",
    "\n",
    "\n",
    "\n",
    "\n"
   ]
  },
  {
   "cell_type": "markdown",
   "metadata": {
    "id": "C1bJQGgbdJb-"
   },
   "source": [
    "The data is available in the AMZN.csv"
   ]
  },
  {
   "cell_type": "code",
   "execution_count": 24,
   "metadata": {
    "executionInfo": {
     "elapsed": 2202,
     "status": "ok",
     "timestamp": 1613435282223,
     "user": {
      "displayName": "Jack La",
      "photoUrl": "",
      "userId": "10615252460498927001"
     },
     "user_tz": -570
    },
    "id": "KH-L1ElEbfyD"
   },
   "outputs": [],
   "source": [
    "dataset = pd.read_csv(r'124 AMZN.csv', header=0, usecols=['Date','Close'], parse_dates=True,index_col='Date')"
   ]
  },
  {
   "cell_type": "markdown",
   "metadata": {
    "id": "veoOqjEPetaQ"
   },
   "source": [
    "\n",
    "\n",
    "*   header: The row number used as the column names and the start of the data. Default behavior is to infer the column names. If no names are passed the behavior is identical to header = 0 and column names are inferred from the first line of the file. If column names are passed explicitly, then the behavior is identical to header = None\n",
    "\n",
    "*   usecols: This returns a subset of the columns. If list-like, all elements must either be positional (that is integer indices into the document columns) or strings that coresspnd to column  names provided by either the user in names or inferred from the document header rows. In our case, we did collect only 2 columns (Date and Close)\n",
    "*   parse_dates: this is a Boolean. If true, try parsing the index.\n",
    "\n",
    "\n",
    "*   index_col: This is the column to use as the row lables of the DataFrame. If a sequences is given, a multiIndex is used.\n",
    "\n",
    "\n",
    "\n",
    "\n",
    "*   List item\n",
    "\n"
   ]
  },
  {
   "cell_type": "code",
   "execution_count": 7,
   "metadata": {
    "colab": {
     "base_uri": "https://localhost:8080/"
    },
    "executionInfo": {
     "elapsed": 1092,
     "status": "ok",
     "timestamp": 1613435284693,
     "user": {
      "displayName": "Jack La",
      "photoUrl": "",
      "userId": "10615252460498927001"
     },
     "user_tz": -570
    },
    "id": "GGNWaobOjj-j",
    "outputId": "80afad87-049c-48fa-bd82-3c2f4600b2d8"
   },
   "outputs": [
    {
     "name": "stdout",
     "output_type": "stream",
     "text": [
      "<class 'pandas.core.frame.DataFrame'>\n",
      "DatetimeIndex: 4529 entries, 2000-11-21 to 2018-11-21\n",
      "Data columns (total 1 columns):\n",
      " #   Column  Non-Null Count  Dtype  \n",
      "---  ------  --------------  -----  \n",
      " 0   Close   4529 non-null   float64\n",
      "dtypes: float64(1)\n",
      "memory usage: 70.8 KB\n",
      "None\n"
     ]
    }
   ],
   "source": [
    "print(dataset.info())"
   ]
  },
  {
   "cell_type": "code",
   "execution_count": 8,
   "metadata": {
    "colab": {
     "base_uri": "https://localhost:8080/"
    },
    "executionInfo": {
     "elapsed": 1025,
     "status": "ok",
     "timestamp": 1613435290887,
     "user": {
      "displayName": "Jack La",
      "photoUrl": "",
      "userId": "10615252460498927001"
     },
     "user_tz": -570
    },
    "id": "eCaAbfRIj3xE",
    "outputId": "5a06b060-fc01-4515-dc26-60bf6ab4ea6d"
   },
   "outputs": [
    {
     "name": "stdout",
     "output_type": "stream",
     "text": [
      "              Close\n",
      "Date               \n",
      "2000-11-21  24.2500\n",
      "2000-11-22  25.1875\n",
      "2000-11-24  28.9375\n",
      "2000-11-27  28.0000\n",
      "2000-11-28  25.0312\n"
     ]
    }
   ],
   "source": [
    "print(dataset.head())"
   ]
  },
  {
   "cell_type": "code",
   "execution_count": 9,
   "metadata": {
    "colab": {
     "base_uri": "https://localhost:8080/"
    },
    "executionInfo": {
     "elapsed": 1027,
     "status": "ok",
     "timestamp": 1613435296601,
     "user": {
      "displayName": "Jack La",
      "photoUrl": "",
      "userId": "10615252460498927001"
     },
     "user_tz": -570
    },
    "id": "NvrN6TgtkEHx",
    "outputId": "20b3e963-fbb2-4ee1-e1e0-105e8ca0df67"
   },
   "outputs": [
    {
     "name": "stdout",
     "output_type": "stream",
     "text": [
      "             Close\n",
      "count  4529.000000\n",
      "mean    290.353723\n",
      "std     407.211585\n",
      "min       5.970000\n",
      "25%      39.849998\n",
      "50%     117.889999\n",
      "75%     327.440002\n",
      "max    2039.510010\n"
     ]
    }
   ],
   "source": [
    "print(dataset.describe())"
   ]
  },
  {
   "cell_type": "code",
   "execution_count": 10,
   "metadata": {
    "colab": {
     "base_uri": "https://localhost:8080/",
     "height": 320
    },
    "executionInfo": {
     "elapsed": 1397,
     "status": "ok",
     "timestamp": 1613435298946,
     "user": {
      "displayName": "Jack La",
      "photoUrl": "",
      "userId": "10615252460498927001"
     },
     "user_tz": -570
    },
    "id": "zR1PYW_xkdJK",
    "outputId": "62cbb223-28bc-4292-9566-dd6fd022be88"
   },
   "outputs": [
    {
     "data": {
      "image/png": "[encoded data removed]",
      "text/plain": [
       "<Figure size 720x360 with 1 Axes>"
      ]
     },
     "metadata": {
      "needs_background": "light"
     },
     "output_type": "display_data"
    }
   ],
   "source": [
    "import matplotlib.pyplot as plt\n",
    "plt.figure(figsize=(10,5)) #create a new figure. Figsize sets the width and height in inches\n",
    "plt.plot(dataset)\n",
    "plt.show()"
   ]
  },
  {
   "cell_type": "markdown",
   "metadata": {
    "id": "kcpcg4cVqYKy"
   },
   "source": [
    "A time series is the crhonological recording of experimental obseravtions of a variable, such as price trends, stock market indices, spreads and unemployment rates\n",
    "\n",
    "\n",
    "---\n",
    "ratio is  (Y(t+1) - Y(t))/Y(t). This index is a percentage ratio and is called percentage change\n",
    "\n",
    "\n"
   ]
  },
  {
   "cell_type": "code",
   "execution_count": 25,
   "metadata": {
    "executionInfo": {
     "elapsed": 1096,
     "status": "ok",
     "timestamp": 1613435300854,
     "user": {
      "displayName": "Jack La",
      "photoUrl": "",
      "userId": "10615252460498927001"
     },
     "user_tz": -570
    },
    "id": "DFUNAAyNrRy-"
   },
   "outputs": [
    {
     "data": {
      "text/html": [
       "<div>\n",
       "<style scoped>\n",
       "    .dataframe tbody tr th:only-of-type {\n",
       "        vertical-align: middle;\n",
       "    }\n",
       "\n",
       "    .dataframe tbody tr th {\n",
       "        vertical-align: top;\n",
       "    }\n",
       "\n",
       "    .dataframe thead th {\n",
       "        text-align: right;\n",
       "    }\n",
       "</style>\n",
       "<table border=\"1\" class=\"dataframe\">\n",
       "  <thead>\n",
       "    <tr style=\"text-align: right;\">\n",
       "      <th></th>\n",
       "      <th>Close</th>\n",
       "    </tr>\n",
       "    <tr>\n",
       "      <th>Date</th>\n",
       "      <th></th>\n",
       "    </tr>\n",
       "  </thead>\n",
       "  <tbody>\n",
       "    <tr>\n",
       "      <th>2000-11-21</th>\n",
       "      <td>NaN</td>\n",
       "    </tr>\n",
       "    <tr>\n",
       "      <th>2000-11-22</th>\n",
       "      <td>0.038660</td>\n",
       "    </tr>\n",
       "    <tr>\n",
       "      <th>2000-11-24</th>\n",
       "      <td>0.148883</td>\n",
       "    </tr>\n",
       "    <tr>\n",
       "      <th>2000-11-27</th>\n",
       "      <td>-0.032397</td>\n",
       "    </tr>\n",
       "    <tr>\n",
       "      <th>2000-11-28</th>\n",
       "      <td>-0.106029</td>\n",
       "    </tr>\n",
       "    <tr>\n",
       "      <th>...</th>\n",
       "      <td>...</td>\n",
       "    </tr>\n",
       "    <tr>\n",
       "      <th>2018-11-15</th>\n",
       "      <td>0.012777</td>\n",
       "    </tr>\n",
       "    <tr>\n",
       "      <th>2018-11-16</th>\n",
       "      <td>-0.016073</td>\n",
       "    </tr>\n",
       "    <tr>\n",
       "      <th>2018-11-19</th>\n",
       "      <td>-0.050910</td>\n",
       "    </tr>\n",
       "    <tr>\n",
       "      <th>2018-11-20</th>\n",
       "      <td>-0.011129</td>\n",
       "    </tr>\n",
       "    <tr>\n",
       "      <th>2018-11-21</th>\n",
       "      <td>0.014223</td>\n",
       "    </tr>\n",
       "  </tbody>\n",
       "</table>\n",
       "<p>4529 rows × 1 columns</p>\n",
       "</div>"
      ],
      "text/plain": [
       "               Close\n",
       "Date                \n",
       "2000-11-21       NaN\n",
       "2000-11-22  0.038660\n",
       "2000-11-24  0.148883\n",
       "2000-11-27 -0.032397\n",
       "2000-11-28 -0.106029\n",
       "...              ...\n",
       "2018-11-15  0.012777\n",
       "2018-11-16 -0.016073\n",
       "2018-11-19 -0.050910\n",
       "2018-11-20 -0.011129\n",
       "2018-11-21  0.014223\n",
       "\n",
       "[4529 rows x 1 columns]"
      ]
     },
     "execution_count": 25,
     "metadata": {},
     "output_type": "execute_result"
    }
   ],
   "source": [
    "DataPctChange = dataset.pct_change()\n",
    "DataPctChange"
   ]
  },
  {
   "cell_type": "markdown",
   "metadata": {
    "id": "rJ028-jGron_"
   },
   "source": [
    "We will calculate the logarithm of returns. We have clear benefits:\n",
    "\n",
    "\n",
    "*   log-normality: If we assume that prices are distributed log normally, then log(1+ri) is conveniently normally distributed\n",
    "\n",
    "*   Approximate raw-log equality: When returns are very small result, log(1+r) is roughly equal to r\n",
    "*   Logarithmic returns are additive over time\n",
    "\n",
    "\n",
    "---\n",
    "\n",
    "The benefit of using returns versus prices is normalization: measuring all variables in a comparable metric\n",
    "\n"
   ]
  },
  {
   "cell_type": "code",
   "execution_count": 12,
   "metadata": {
    "colab": {
     "base_uri": "https://localhost:8080/"
    },
    "executionInfo": {
     "elapsed": 1007,
     "status": "ok",
     "timestamp": 1613435303302,
     "user": {
      "displayName": "Jack La",
      "photoUrl": "",
      "userId": "10615252460498927001"
     },
     "user_tz": -570
    },
    "id": "mmxd3Y4VsdNj",
    "outputId": "c29c0ede-50a4-4ed7-9245-55e6c627c45a"
   },
   "outputs": [
    {
     "name": "stdout",
     "output_type": "stream",
     "text": [
      "               Close\n",
      "Date                \n",
      "2018-11-08 -0.000330\n",
      "2018-11-09 -0.024504\n",
      "2018-11-12 -0.045140\n",
      "2018-11-13 -0.003476\n",
      "2018-11-14 -0.019913\n",
      "2018-11-15  0.012696\n",
      "2018-11-16 -0.016204\n",
      "2018-11-19 -0.052251\n",
      "2018-11-20 -0.011191\n",
      "2018-11-21  0.014123\n"
     ]
    }
   ],
   "source": [
    "import numpy as np\n",
    "LogReturns = np.log(1+DataPctChange)\n",
    "print(LogReturns.tail(10)) # tail function returns the last n rows"
   ]
  },
  {
   "cell_type": "code",
   "execution_count": 13,
   "metadata": {
    "colab": {
     "base_uri": "https://localhost:8080/",
     "height": 320
    },
    "executionInfo": {
     "elapsed": 1154,
     "status": "ok",
     "timestamp": 1613435305835,
     "user": {
      "displayName": "Jack La",
      "photoUrl": "",
      "userId": "10615252460498927001"
     },
     "user_tz": -570
    },
    "id": "eJSQ8754s2-8",
    "outputId": "e6c79079-ca89-482c-ab0e-6d6c98e143cd"
   },
   "outputs": [
    {
     "data": {
      "image/png": "[encoded data removed]",
      "text/plain": [
       "<Figure size 720x360 with 1 Axes>"
      ]
     },
     "metadata": {
      "needs_background": "light"
     },
     "output_type": "display_data"
    }
   ],
   "source": [
    "plt.figure(figsize=(10,5))\n",
    "plt.plot(LogReturns)\n",
    "plt.show()"
   ]
  },
  {
   "cell_type": "markdown",
   "metadata": {
    "id": "btHK-zy8KJpg"
   },
   "source": [
    "r is a periodic rate of return\n",
    "\n",
    "\n",
    "---\n",
    "Formula: Stockprice(t) = Stockprice(t-1) * exp(r). This model was formulated by Louis Bachelier\n",
    "\n",
    "\n",
    "---\n",
    "\n",
    "The exponetial term is called daily return\n",
    "\n",
    "---\n",
    "\n",
    "The Geometric Brownian motion model is a stochastic process defined in the continuum in which the logarithm of the random variable over time follows a Brownian motion. This process is particularly important in the financial sector, particularly in the option pricing, as the Black-Scholes-Merton (BSM) model assumes that the price of the underlying asset follows such a process\n",
    "\n",
    "\n",
    "---\n",
    "\n",
    "The model is based on the following assumptions:\n",
    "\n",
    "\n",
    "1.   The changes in stock price depend on the expected return over time and the effect of the constant volatility of the people who buy and sell at random over time have on that expected return\n",
    "\n",
    "1.   The price is made up of two contributions: fixed drift rate and random stochastic variable\n",
    "\n",
    "1.  The two contributions include the certainty of the movement and the uncertainty caused by volatility\n",
    "\n",
    "\n",
    "---\n",
    "\n",
    "drift = mean value of the log returns - (0.5*variance to the log returns). So the drift , we will use the expected rate of return-in other words, the rate we expect to change every day. This is known as the asset drift\n",
    "\n",
    "---\n",
    "\n",
    "\n",
    "The asset drift is the expected rate of change for price but it is not neccessarily the price of the rate that actually changes everyday; it is only the rate that is most likely to occur. This rate price is an unknown random number . We can determine the probabilities of using the rate based on the expected return, that is , the drift and historical volatility also known as standard deviation\n",
    "\n",
    "---\n",
    "\n",
    "\n",
    "r can assume any value being able to grow and decrease\n",
    "\n",
    "---\n",
    "Steps to create Monte Carlo simulation:\n",
    "\n",
    "\n",
    "1.   Import the closing prices of an asset\n",
    "\n",
    "1.   Find the periodic log returns\n",
    "\n",
    "1.   Find the mean, variance and standard deviation of the log returns\n",
    "2.   Calculate the drift as a mean of -0.5 variance\n",
    "\n",
    "\n",
    "2.   Calculate a random stochastic offset as standard deviation * random term (B)\n",
    "\n",
    "\n",
    "2.   Calculate the daily returns as e(drift * stdev * B)\n",
    "\n",
    "\n",
    "1.   Calculate the stock price (t) as stock price (t-1) * daily returns\n",
    "\n",
    "\n",
    "\n",
    "\n",
    "\n"
   ]
  },
  {
   "cell_type": "code",
   "execution_count": 14,
   "metadata": {
    "colab": {
     "base_uri": "https://localhost:8080/"
    },
    "executionInfo": {
     "elapsed": 977,
     "status": "ok",
     "timestamp": 1613436081232,
     "user": {
      "displayName": "Jack La",
      "photoUrl": "",
      "userId": "10615252460498927001"
     },
     "user_tz": -570
    },
    "id": "Q-8vM34hO_Go",
    "outputId": "b0ad5eef-aa4f-481f-ed3b-111f6d621f30"
   },
   "outputs": [
    {
     "name": "stdout",
     "output_type": "stream",
     "text": [
      "Drift:  [0.0004312]\n"
     ]
    }
   ],
   "source": [
    "# mean() function computes the arithmetic mean along the specified axis and returns the average of the array elements\n",
    "MeanLogReturns = np.array(LogReturns.mean())\n",
    "# var() function computes the variance along the specified axis\n",
    "VarLogReturns= np.array(LogReturns.var())\n",
    "# std() function computes the standard deviation along the specified axis. A measure of the spread of a distribution of the array elements\n",
    "StdevLogReturns = np.array(LogReturns.std())\n",
    "# drift = mean - 0.5 * variance\n",
    "Drift = MeanLogReturns - (0.5 * VarLogReturns)\n",
    "print(\"Drift: \", Drift)"
   ]
  },
  {
   "cell_type": "code",
   "execution_count": 125,
   "metadata": {
    "executionInfo": {
     "elapsed": 981,
     "status": "ok",
     "timestamp": 1613436280750,
     "user": {
      "displayName": "Jack La",
      "photoUrl": "",
      "userId": "10615252460498927001"
     },
     "user_tz": -570
    },
    "id": "JxlctBHoSl2p"
   },
   "outputs": [],
   "source": [
    "NumberIntervals = 4592 # The numnber of obseravtions contained in the original dataset\n",
    "Iterations = 30"
   ]
  },
  {
   "cell_type": "code",
   "execution_count": 126,
   "metadata": {
    "id": "b3upK_XhS-dR"
   },
   "outputs": [],
   "source": [
    "# np.random.rand() function computes random values in a given shape; it creates an array of the given shape and populates it with random samples from a uniform distribution over [0,1)\n",
    "# norm.ppf() function gives the value of the variate for which the cumulative probability has the given value"
   ]
  },
  {
   "cell_type": "code",
   "execution_count": 127,
   "metadata": {
    "executionInfo": {
     "elapsed": 1046,
     "status": "ok",
     "timestamp": 1613436475301,
     "user": {
      "displayName": "Jack La",
      "photoUrl": "",
      "userId": "10615252460498927001"
     },
     "user_tz": -570
    },
    "id": "dGUjG63xTeKk"
   },
   "outputs": [],
   "source": [
    "from scipy.stats import norm\n",
    "B = norm.ppf(np.random.rand(NumberIntervals,Iterations))"
   ]
  },
  {
   "cell_type": "markdown",
   "metadata": {
    "id": "xRmmAgYzT2jN"
   },
   "source": [
    "The daily return measure the change in a stock'price as a percentage of the previous day's closing price \n",
    "\n",
    "---\n",
    "A positive return means the stock has grown in value while the -ve return means it has lost value\n",
    "\n",
    "---\n",
    "\n",
    "To calculate daily returns, we will use this formula: exp(drift+stdev *B)\n"
   ]
  },
  {
   "cell_type": "code",
   "execution_count": 128,
   "metadata": {
    "executionInfo": {
     "elapsed": 972,
     "status": "ok",
     "timestamp": 1613436658114,
     "user": {
      "displayName": "Jack La",
      "photoUrl": "",
      "userId": "10615252460498927001"
     },
     "user_tz": -570
    },
    "id": "F1Z00jrwURpp"
   },
   "outputs": [],
   "source": [
    "DailyReturns = np.exp(Drift +StdevLogReturns * B)"
   ]
  },
  {
   "cell_type": "code",
   "execution_count": 129,
   "metadata": {
    "executionInfo": {
     "elapsed": 1006,
     "status": "ok",
     "timestamp": 1613436793867,
     "user": {
      "displayName": "Jack La",
      "photoUrl": "",
      "userId": "10615252460498927001"
     },
     "user_tz": -570
    },
    "id": "53cE-XwhUaZ8"
   },
   "outputs": [],
   "source": [
    "StockPrice0 = dataset.iloc[0] # stock price at 2000-06-05"
   ]
  },
  {
   "cell_type": "code",
   "execution_count": 130,
   "metadata": {
    "executionInfo": {
     "elapsed": 981,
     "status": "ok",
     "timestamp": 1613436818041,
     "user": {
      "displayName": "Jack La",
      "photoUrl": "",
      "userId": "10615252460498927001"
     },
     "user_tz": -570
    },
    "id": "qkXnGMmLU7pY"
   },
   "outputs": [],
   "source": [
    "StockPrice = np.zeros_like(DailyReturns)\n",
    "# .zeros_like() function returns an array of zeros wit the same shape and type as a given array,(DailyReturns)"
   ]
  },
  {
   "cell_type": "code",
   "execution_count": 135,
   "metadata": {
    "executionInfo": {
     "elapsed": 987,
     "status": "ok",
     "timestamp": 1613436921215,
     "user": {
      "displayName": "Jack La",
      "photoUrl": "",
      "userId": "10615252460498927001"
     },
     "user_tz": -570
    },
    "id": "49G2GlBcVRtk"
   },
   "outputs": [
    {
     "data": {
      "text/plain": [
       "array([24.25, 24.25, 24.25, 24.25, 24.25, 24.25, 24.25, 24.25, 24.25,\n",
       "       24.25, 24.25, 24.25, 24.25, 24.25, 24.25, 24.25, 24.25, 24.25,\n",
       "       24.25, 24.25, 24.25, 24.25, 24.25, 24.25, 24.25, 24.25, 24.25,\n",
       "       24.25, 24.25, 24.25])"
      ]
     },
     "execution_count": 135,
     "metadata": {},
     "output_type": "execute_result"
    }
   ],
   "source": [
    "StockPrice[0]=  StockPrice0\n",
    "StockPrice[0]"
   ]
  },
  {
   "cell_type": "code",
   "execution_count": 132,
   "metadata": {
    "executionInfo": {
     "elapsed": 2023,
     "status": "ok",
     "timestamp": 1613437702303,
     "user": {
      "displayName": "Jack La",
      "photoUrl": "",
      "userId": "10615252460498927001"
     },
     "user_tz": -570
    },
    "id": "_lcygz9YWjqX"
   },
   "outputs": [
    {
     "name": "stdout",
     "output_type": "stream",
     "text": [
      "[[2.42500000e+01 2.42500000e+01 2.42500000e+01 ... 2.42500000e+01\n",
      "  2.42500000e+01 2.42500000e+01]\n",
      " [2.42745749e+01 2.44372417e+01 2.44762729e+01 ... 2.44594051e+01\n",
      "  2.48992343e+01 2.41104996e+01]\n",
      " [2.28005016e+01 2.44430916e+01 2.38301196e+01 ... 2.44413224e+01\n",
      "  2.37051963e+01 2.33090306e+01]\n",
      " ...\n",
      " [4.13107318e+02 7.13231578e+01 2.93838507e+02 ... 4.36481802e+03\n",
      "  1.13382345e+02 3.38505650e+00]\n",
      " [4.19904069e+02 7.07158463e+01 2.89269029e+02 ... 4.41259379e+03\n",
      "  1.16693584e+02 3.41105550e+00]\n",
      " [4.01203837e+02 6.92361920e+01 2.85098421e+02 ... 4.30981233e+03\n",
      "  1.18603487e+02 3.27492788e+00]]\n"
     ]
    }
   ],
   "source": [
    "for t in range(1, NumberIntervals):\n",
    "\n",
    "    StockPrice[t] = StockPrice[t - 1] * DailyReturns[t]\n",
    "print(StockPrice)"
   ]
  },
  {
   "cell_type": "code",
   "execution_count": 133,
   "metadata": {
    "colab": {
     "base_uri": "https://localhost:8080/",
     "height": 320
    },
    "executionInfo": {
     "elapsed": 1455,
     "status": "ok",
     "timestamp": 1613437704631,
     "user": {
      "displayName": "Jack La",
      "photoUrl": "",
      "userId": "10615252460498927001"
     },
     "user_tz": -570
    },
    "id": "5JKiZzKxW3tw",
    "outputId": "e8893d5c-72fc-4b73-d009-08b3483b4548"
   },
   "outputs": [
    {
     "data": {
      "image/png": "[encoded data removed]",
      "text/plain": [
       "<Figure size 720x360 with 1 Axes>"
      ]
     },
     "metadata": {
      "needs_background": "light"
     },
     "output_type": "display_data"
    }
   ],
   "source": [
    "plt.figure(figsize=(10,5))\n",
    "\n",
    "plt.plot(StockPrice,linewidth=1)   \n",
    "\n",
    "\n",
    "\n",
    "df1 = np.array(dataset.iloc[:, 0:1])\n",
    "\n",
    "#plt.subplot(1,2,1)\n",
    "plt.plot(df1,linewidth=5)\n",
    "\n",
    "\n",
    "plt.show()"
   ]
  },
  {
   "cell_type": "code",
   "execution_count": null,
   "metadata": {},
   "outputs": [],
   "source": []
  },
  {
   "cell_type": "code",
   "execution_count": null,
   "metadata": {},
   "outputs": [],
   "source": []
  },
  {
   "cell_type": "code",
   "execution_count": null,
   "metadata": {},
   "outputs": [],
   "source": []
  }
 ],
 "metadata": {
  "colab": {
   "authorship_tag": "ABX9TyPfUuu0D56izQojNNWfc9HL",
   "collapsed_sections": [],
   "name": "Udemy stock price prediction.ipynb",
   "provenance": []
  },
  "kernelspec": {
   "display_name": "Python 3",
   "language": "python",
   "name": "python3"
  },
  "language_info": {
   "codemirror_mode": {
    "name": "ipython",
    "version": 3
   },
   "file_extension": ".py",
   "mimetype": "text/x-python",
   "name": "python",
   "nbconvert_exporter": "python",
   "pygments_lexer": "ipython3",
   "version": "3.7.6"
  }
 },
 "nbformat": 4,
 "nbformat_minor": 1
}
